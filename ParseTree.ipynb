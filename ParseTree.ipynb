{
 "cells": [
  {
   "cell_type": "code",
   "execution_count": 4,
   "id": "1883dc3d-43a9-4d44-9faf-42a6cf92b39a",
   "metadata": {},
   "outputs": [
    {
     "name": "stderr",
     "output_type": "stream",
     "text": [
      "[nltk_data] Downloading package punkt to\n",
      "[nltk_data]     C:\\Users\\intellaptop\\AppData\\Roaming\\nltk_data...\n",
      "[nltk_data]   Package punkt is already up-to-date!\n",
      "[nltk_data] Downloading package averaged_perceptron_tagger to\n",
      "[nltk_data]     C:\\Users\\intellaptop\\AppData\\Roaming\\nltk_data...\n",
      "[nltk_data]   Package averaged_perceptron_tagger is already up-to-\n",
      "[nltk_data]       date!\n"
     ]
    }
   ],
   "source": [
    "import nltk\n",
    "nltk.download('punkt')\n",
    "nltk.download('averaged_perceptron_tagger')\n",
    "from nltk.tokenize import word_tokenize\n",
    "from nltk.tag import pos_tag\n",
    "from nltk import pos_tag, word_tokenize, RegexpParser"
   ]
  },
  {
   "cell_type": "code",
   "execution_count": 5,
   "id": "19d4057f-3ee5-40e2-b1b0-44088337d037",
   "metadata": {},
   "outputs": [
    {
     "data": {
      "text/plain": [
       "[('reza', 'NN'), ('loves', 'VBZ'), ('his', 'PRP$'), ('wife', 'NN')]"
      ]
     },
     "execution_count": 5,
     "metadata": {},
     "output_type": "execute_result"
    }
   ],
   "source": [
    "text = \"reza loves his wife\"\n",
    "tags = pos_tag(word_tokenize(text))\n",
    "tags"
   ]
  },
  {
   "cell_type": "code",
   "execution_count": 6,
   "id": "76f66b72-d069-4589-b2c9-a7d13d7ce916",
   "metadata": {},
   "outputs": [],
   "source": [
    "chunker = RegexpParser(\"\"\"\n",
    "    NP: {<DT>?<JJ>*<NN>}\n",
    "    P : {<IN>}\n",
    "    V : {<V.*>}\n",
    "    PP: {<P> <NP>}\n",
    "    VP: {<V> <NP|PP>*}\n",
    "    \"\"\")"
   ]
  },
  {
   "cell_type": "code",
   "execution_count": 7,
   "id": "4e7e9ec7-5f01-42f4-b014-5ba562b820ee",
   "metadata": {},
   "outputs": [
    {
     "name": "stdout",
     "output_type": "stream",
     "text": [
      "(S (NP reza/NN) (VP (V loves/VBZ)) his/PRP$ (NP wife/NN))\n"
     ]
    }
   ],
   "source": [
    "result = chunker.parse(tags)\n",
    "print(result)"
   ]
  },
  {
   "cell_type": "code",
   "execution_count": 8,
   "id": "2165f83e-acd0-40f9-8fe3-77beb60e0804",
   "metadata": {},
   "outputs": [],
   "source": [
    "result.draw()"
   ]
  }
 ],
 "metadata": {
  "kernelspec": {
   "display_name": "Python 3 (ipykernel)",
   "language": "python",
   "name": "python3"
  },
  "language_info": {
   "codemirror_mode": {
    "name": "ipython",
    "version": 3
   },
   "file_extension": ".py",
   "mimetype": "text/x-python",
   "name": "python",
   "nbconvert_exporter": "python",
   "pygments_lexer": "ipython3",
   "version": "3.9.7"
  }
 },
 "nbformat": 4,
 "nbformat_minor": 5
}
