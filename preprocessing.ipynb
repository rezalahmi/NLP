{
 "cells": [
  {
   "cell_type": "code",
   "execution_count": 30,
   "id": "e01eba64-a279-424a-b383-290bd9a631aa",
   "metadata": {},
   "outputs": [],
   "source": [
    "def remove_link(text):\n",
    "    url = re.sub(r'http\\S+','',text)\n",
    "    return url"
   ]
  },
  {
   "cell_type": "code",
   "execution_count": 34,
   "id": "717379c2-5965-46f1-b469-52d37f04dfbb",
   "metadata": {},
   "outputs": [],
   "source": [
    "def non_ascii(a):\n",
    "    return \"\".join(i for i in a if ord(i)<128)"
   ]
  }
 ],
 "metadata": {
  "kernelspec": {
   "display_name": "Python 3 (ipykernel)",
   "language": "python",
   "name": "python3"
  },
  "language_info": {
   "codemirror_mode": {
    "name": "ipython",
    "version": 3
   },
   "file_extension": ".py",
   "mimetype": "text/x-python",
   "name": "python",
   "nbconvert_exporter": "python",
   "pygments_lexer": "ipython3",
   "version": "3.9.7"
  }
 },
 "nbformat": 4,
 "nbformat_minor": 5
}
