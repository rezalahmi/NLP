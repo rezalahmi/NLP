{
 "cells": [
  {
   "cell_type": "markdown",
   "metadata": {
    "id": "r31rYsMHGIpW"
   },
   "source": [
    "#<font color='#00d8d6'> Part of Speech Tagging<br>\n",
    "<font color='#05c46b' >NLTK Taggers<br>This package contains classes for part-of-speech tagging, or simply “tagging”.<br>A “tag” specifies some property of a token, such as its part of speech. <br>An Off-the-self tagger is available for English <br>\n",
    "<font color='#00d8d6'>Functions: <br>punkt is used for tokenising sentences <br> averaged_perceptron_tagger is used for tagging words with their parts of speech (POS)."
   ]
  },
  {
   "cell_type": "code",
   "execution_count": 3,
   "metadata": {
    "id": "xqr2LdXHcme0"
   },
   "outputs": [
    {
     "name": "stdout",
     "output_type": "stream",
     "text": [
      "Requirement already satisfied: NLTK in c:\\users\\fourr\\anaconda3\\lib\\site-packages (3.5)\n",
      "Requirement already satisfied: tqdm in c:\\users\\fourr\\anaconda3\\lib\\site-packages (from NLTK) (4.62.3)\n",
      "Requirement already satisfied: click in c:\\users\\fourr\\anaconda3\\lib\\site-packages (from NLTK) (8.0.3)\n",
      "Requirement already satisfied: joblib in c:\\users\\fourr\\anaconda3\\lib\\site-packages (from NLTK) (1.1.0)\n",
      "Requirement already satisfied: regex in c:\\users\\fourr\\anaconda3\\lib\\site-packages (from NLTK) (2021.8.3)\n",
      "Requirement already satisfied: colorama in c:\\users\\fourr\\anaconda3\\lib\\site-packages (from click->NLTK) (0.4.4)\n"
     ]
    }
   ],
   "source": [
    "!pip install NLTK"
   ]
  },
  {
   "cell_type": "code",
   "execution_count": 4,
   "metadata": {
    "id": "NeBBzm0Icuba"
   },
   "outputs": [],
   "source": [
    "import nltk"
   ]
  },
  {
   "cell_type": "code",
   "execution_count": 5,
   "metadata": {},
   "outputs": [
    {
     "name": "stderr",
     "output_type": "stream",
     "text": [
      "[nltk_data] Downloading package punkt to\n",
      "[nltk_data]     C:\\Users\\FourR\\AppData\\Roaming\\nltk_data...\n",
      "[nltk_data]   Unzipping tokenizers\\punkt.zip.\n",
      "[nltk_data] Downloading package averaged_perceptron_tagger to\n",
      "[nltk_data]     C:\\Users\\FourR\\AppData\\Roaming\\nltk_data...\n",
      "[nltk_data]   Package averaged_perceptron_tagger is already up-to-\n",
      "[nltk_data]       date!\n"
     ]
    },
    {
     "data": {
      "text/plain": [
       "True"
      ]
     },
     "execution_count": 5,
     "metadata": {},
     "output_type": "execute_result"
    }
   ],
   "source": [
    "nltk.download('punkt')\n",
    "nltk.download('averaged_perceptron_tagger')"
   ]
  },
  {
   "cell_type": "code",
   "execution_count": 6,
   "metadata": {},
   "outputs": [],
   "source": [
    "sentence = \"Hi, my name is Mohammadreza Lahmi, and this is the first practice in NLP\""
   ]
  },
  {
   "cell_type": "markdown",
   "metadata": {
    "id": "Xcj3DMKZJyo-"
   },
   "source": [
    "<font color='#00d8d6'>tokenize"
   ]
  },
  {
   "cell_type": "code",
   "execution_count": 9,
   "metadata": {
    "id": "DVIX2UFrJvlF"
   },
   "outputs": [
    {
     "name": "stdout",
     "output_type": "stream",
     "text": [
      "['Hi', ',', 'my', 'name', 'is', 'Mohammadreza', 'Lahmi', ',', 'and', 'this', 'is', 'the', 'first', 'practice', 'in', 'NLP']\n"
     ]
    }
   ],
   "source": [
    "tokens = nltk.word_tokenize(sentence)\n",
    "print(tokens)"
   ]
  },
  {
   "cell_type": "markdown",
   "metadata": {
    "id": "wgBRvE9_KHpJ"
   },
   "source": [
    "<font color='#00d8d6'> POS Tagging"
   ]
  },
  {
   "cell_type": "code",
   "execution_count": 10,
   "metadata": {
    "id": "POxCgpcnKAN0"
   },
   "outputs": [
    {
     "name": "stdout",
     "output_type": "stream",
     "text": [
      "[('Hi', 'NNP'), (',', ','), ('my', 'PRP$'), ('name', 'NN'), ('is', 'VBZ'), ('Mohammadreza', 'NNP'), ('Lahmi', 'NNP'), (',', ','), ('and', 'CC'), ('this', 'DT'), ('is', 'VBZ'), ('the', 'DT'), ('first', 'JJ'), ('practice', 'NN'), ('in', 'IN'), ('NLP', 'NNP')]\n"
     ]
    }
   ],
   "source": [
    "tags = nltk.pos_tag(tokens)\n",
    "print(tags)"
   ]
  },
  {
   "cell_type": "markdown",
   "metadata": {
    "id": "f6zytdUfGtmS"
   },
   "source": [
    "[IBM Watson Resource For Part Of Speech](https://www.ibm.com/docs/en/wca/3.5.0?topic=analytics-part-speech-tag-sets)"
   ]
  },
  {
   "cell_type": "code",
   "execution_count": 11,
   "metadata": {},
   "outputs": [
    {
     "name": "stdout",
     "output_type": "stream",
     "text": [
      "['سلام', 'من', 'محمدرضا', 'لحمی', 'هستم', 'و', 'این', 'اولین', 'تلاش', 'من', 'در', 'پردازش', 'زبان', 'طبیعی', 'است', '.']\n"
     ]
    }
   ],
   "source": [
    "persian_sentence = 'سلام من محمدرضا لحمی هستم و این اولین تلاش من در پردازش زبان طبیعی است.'\n",
    "persian_tokens = nltk.word_tokenize(persian_sentence)\n",
    "print(persian_tokens)"
   ]
  },
  {
   "cell_type": "code",
   "execution_count": 13,
   "metadata": {},
   "outputs": [
    {
     "name": "stdout",
     "output_type": "stream",
     "text": [
      "[('سلام', 'JJ'), ('من', 'NNP'), ('محمدرضا', 'NNP'), ('لحمی', 'NNP'), ('هستم', 'NNP'), ('و', 'NNP'), ('این', 'NNP'), ('اولین', 'NNP'), ('تلاش', 'NNP'), ('من', 'NNP'), ('در', 'NNP'), ('پردازش', 'NNP'), ('زبان', 'NNP'), ('طبیعی', 'NNP'), ('است', 'NNP'), ('.', '.')]\n"
     ]
    }
   ],
   "source": [
    "persian_tags = nltk.pos_tag(persian_tokens)\n",
    "print(persian_tags)\n",
    "#jj is adjective\n",
    "#NNP is singular none"
   ]
  }
 ],
 "metadata": {
  "colab": {
   "collapsed_sections": [],
   "name": "PartOfSpeechTagging ",
   "provenance": []
  },
  "kernelspec": {
   "display_name": "Python 3 (ipykernel)",
   "language": "python",
   "name": "python3"
  },
  "language_info": {
   "codemirror_mode": {
    "name": "ipython",
    "version": 3
   },
   "file_extension": ".py",
   "mimetype": "text/x-python",
   "name": "python",
   "nbconvert_exporter": "python",
   "pygments_lexer": "ipython3",
   "version": "3.9.7"
  }
 },
 "nbformat": 4,
 "nbformat_minor": 4
}
