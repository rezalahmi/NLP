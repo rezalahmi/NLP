{
 "cells": [
  {
   "cell_type": "code",
   "execution_count": 1,
   "id": "f890b0c3-360b-4d4d-90d2-05edfca5a7b4",
   "metadata": {},
   "outputs": [],
   "source": [
    "import nltk"
   ]
  },
  {
   "cell_type": "code",
   "execution_count": 2,
   "id": "1c98ef30-bb5b-4ae4-a729-78ce7f7bbfda",
   "metadata": {},
   "outputs": [],
   "source": [
    "from nltk.stem import PorterStemmer\n",
    "porter = PorterStemmer()"
   ]
  },
  {
   "cell_type": "code",
   "execution_count": 4,
   "id": "8a54bb97-a05c-4c50-83a1-5aed907d37ee",
   "metadata": {},
   "outputs": [
    {
     "name": "stdout",
     "output_type": "stream",
     "text": [
      "swim\n"
     ]
    }
   ],
   "source": [
    "print(porter.stem('swimming'))"
   ]
  },
  {
   "cell_type": "code",
   "execution_count": 5,
   "id": "788db54a-99ea-45b4-993a-b31c626a3d58",
   "metadata": {},
   "outputs": [],
   "source": [
    "from nltk.stem import LancasterStemmer\n",
    "lancaster = LancasterStemmer()"
   ]
  },
  {
   "cell_type": "code",
   "execution_count": 6,
   "id": "21b96f68-96c3-455d-a934-40000ab965cb",
   "metadata": {},
   "outputs": [
    {
     "name": "stdout",
     "output_type": "stream",
     "text": [
      "swim\n"
     ]
    }
   ],
   "source": [
    "print(lancaster.stem('swimming'))"
   ]
  },
  {
   "cell_type": "code",
   "execution_count": 7,
   "id": "c22946dc-5291-45cd-bcdc-ee8c5e37d856",
   "metadata": {},
   "outputs": [
    {
     "name": "stdout",
     "output_type": "stream",
     "text": [
      "orgena\n",
      "orgena\n"
     ]
    }
   ],
   "source": [
    "print(porter.stem('orgenaization'))\n",
    "print(lancaster.stem('orgenaization'))"
   ]
  },
  {
   "cell_type": "code",
   "execution_count": 9,
   "id": "60ea4a73-291c-4ba8-966e-3c3f4b5bf53d",
   "metadata": {},
   "outputs": [],
   "source": [
    "from nltk.stem import SnowballStemmer\n",
    "snowball = SnowballStemmer('english')"
   ]
  },
  {
   "cell_type": "code",
   "execution_count": 10,
   "id": "35153e1f-db13-47b4-8ff6-63c77135a97b",
   "metadata": {},
   "outputs": [
    {
     "name": "stdout",
     "output_type": "stream",
     "text": [
      "orgena\n"
     ]
    }
   ],
   "source": [
    "print(snowball.stem('orgenaization'))"
   ]
  }
 ],
 "metadata": {
  "kernelspec": {
   "display_name": "Python 3 (ipykernel)",
   "language": "python",
   "name": "python3"
  },
  "language_info": {
   "codemirror_mode": {
    "name": "ipython",
    "version": 3
   },
   "file_extension": ".py",
   "mimetype": "text/x-python",
   "name": "python",
   "nbconvert_exporter": "python",
   "pygments_lexer": "ipython3",
   "version": "3.9.7"
  }
 },
 "nbformat": 4,
 "nbformat_minor": 5
}
